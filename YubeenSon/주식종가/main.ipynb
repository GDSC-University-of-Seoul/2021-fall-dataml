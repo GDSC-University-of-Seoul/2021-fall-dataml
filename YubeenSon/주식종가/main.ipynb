{
 "cells": [
  {
   "cell_type": "code",
   "execution_count": 1,
   "metadata": {},
   "outputs": [],
   "source": [
    "import pandas as pd\n",
    "import os\n",
    "import FinanceDataReader as fdr\n",
    "import matplotlib.pyplot as plt\n",
    "import numpy as np\n",
    "from tqdm import tqdm"
   ]
  },
  {
   "cell_type": "markdown",
   "metadata": {},
   "source": [
    "## 데이터셋 확인"
   ]
  },
  {
   "cell_type": "code",
   "execution_count": 2,
   "metadata": {},
   "outputs": [
    {
     "data": {
      "text/html": [
       "<div>\n",
       "<style scoped>\n",
       "    .dataframe tbody tr th:only-of-type {\n",
       "        vertical-align: middle;\n",
       "    }\n",
       "\n",
       "    .dataframe tbody tr th {\n",
       "        vertical-align: top;\n",
       "    }\n",
       "\n",
       "    .dataframe thead th {\n",
       "        text-align: right;\n",
       "    }\n",
       "</style>\n",
       "<table border=\"1\" class=\"dataframe\">\n",
       "  <thead>\n",
       "    <tr style=\"text-align: right;\">\n",
       "      <th></th>\n",
       "      <th>종목명</th>\n",
       "      <th>종목코드</th>\n",
       "      <th>상장시장</th>\n",
       "    </tr>\n",
       "  </thead>\n",
       "  <tbody>\n",
       "    <tr>\n",
       "      <th>109</th>\n",
       "      <td>메리츠화재</td>\n",
       "      <td>000060</td>\n",
       "      <td>KOSPI</td>\n",
       "    </tr>\n",
       "    <tr>\n",
       "      <th>126</th>\n",
       "      <td>하이트진로</td>\n",
       "      <td>000080</td>\n",
       "      <td>KOSPI</td>\n",
       "    </tr>\n",
       "    <tr>\n",
       "      <th>67</th>\n",
       "      <td>유한양행</td>\n",
       "      <td>000100</td>\n",
       "      <td>KOSPI</td>\n",
       "    </tr>\n",
       "    <tr>\n",
       "      <th>69</th>\n",
       "      <td>CJ대한통운</td>\n",
       "      <td>000120</td>\n",
       "      <td>KOSPI</td>\n",
       "    </tr>\n",
       "    <tr>\n",
       "      <th>156</th>\n",
       "      <td>두산</td>\n",
       "      <td>000150</td>\n",
       "      <td>KOSPI</td>\n",
       "    </tr>\n",
       "    <tr>\n",
       "      <th>...</th>\n",
       "      <td>...</td>\n",
       "      <td>...</td>\n",
       "      <td>...</td>\n",
       "    </tr>\n",
       "    <tr>\n",
       "      <th>328</th>\n",
       "      <td>넥스틴</td>\n",
       "      <td>348210</td>\n",
       "      <td>KOSDAQ</td>\n",
       "    </tr>\n",
       "    <tr>\n",
       "      <th>31</th>\n",
       "      <td>하이브</td>\n",
       "      <td>352820</td>\n",
       "      <td>KOSPI</td>\n",
       "    </tr>\n",
       "    <tr>\n",
       "      <th>199</th>\n",
       "      <td>솔브레인</td>\n",
       "      <td>357780</td>\n",
       "      <td>KOSDAQ</td>\n",
       "    </tr>\n",
       "    <tr>\n",
       "      <th>176</th>\n",
       "      <td>티와이홀딩스</td>\n",
       "      <td>363280</td>\n",
       "      <td>KOSPI</td>\n",
       "    </tr>\n",
       "    <tr>\n",
       "      <th>241</th>\n",
       "      <td>엑세스바이오</td>\n",
       "      <td>950130</td>\n",
       "      <td>KOSDAQ</td>\n",
       "    </tr>\n",
       "  </tbody>\n",
       "</table>\n",
       "<p>370 rows × 3 columns</p>\n",
       "</div>"
      ],
      "text/plain": [
       "        종목명    종목코드    상장시장\n",
       "109   메리츠화재  000060   KOSPI\n",
       "126   하이트진로  000080   KOSPI\n",
       "67     유한양행  000100   KOSPI\n",
       "69   CJ대한통운  000120   KOSPI\n",
       "156      두산  000150   KOSPI\n",
       "..      ...     ...     ...\n",
       "328     넥스틴  348210  KOSDAQ\n",
       "31      하이브  352820   KOSPI\n",
       "199    솔브레인  357780  KOSDAQ\n",
       "176  티와이홀딩스  363280   KOSPI\n",
       "241  엑세스바이오  950130  KOSDAQ\n",
       "\n",
       "[370 rows x 3 columns]"
      ]
     },
     "execution_count": 2,
     "metadata": {},
     "output_type": "execute_result"
    }
   ],
   "source": [
    "path = './data'\n",
    "list_name = 'Stock_List.csv'\n",
    "stock_list = pd.read_csv(os.path.join(path,list_name))\n",
    "stock_list['종목코드'] = stock_list['종목코드'].apply(lambda x : str(x).zfill(6))\n",
    "stock_list.sort_values(by='종목코드',ascending=True)"
   ]
  },
  {
   "cell_type": "code",
   "execution_count": 3,
   "metadata": {},
   "outputs": [
    {
     "data": {
      "text/html": [
       "<div>\n",
       "<style scoped>\n",
       "    .dataframe tbody tr th:only-of-type {\n",
       "        vertical-align: middle;\n",
       "    }\n",
       "\n",
       "    .dataframe tbody tr th {\n",
       "        vertical-align: top;\n",
       "    }\n",
       "\n",
       "    .dataframe thead th {\n",
       "        text-align: right;\n",
       "    }\n",
       "</style>\n",
       "<table border=\"1\" class=\"dataframe\">\n",
       "  <thead>\n",
       "    <tr style=\"text-align: right;\">\n",
       "      <th></th>\n",
       "      <th>Open</th>\n",
       "      <th>High</th>\n",
       "      <th>Low</th>\n",
       "      <th>Close</th>\n",
       "      <th>Volume</th>\n",
       "      <th>Change</th>\n",
       "    </tr>\n",
       "    <tr>\n",
       "      <th>Date</th>\n",
       "      <th></th>\n",
       "      <th></th>\n",
       "      <th></th>\n",
       "      <th></th>\n",
       "      <th></th>\n",
       "      <th></th>\n",
       "    </tr>\n",
       "  </thead>\n",
       "  <tbody>\n",
       "    <tr>\n",
       "      <th>2021-01-04</th>\n",
       "      <td>81000</td>\n",
       "      <td>84400</td>\n",
       "      <td>80200</td>\n",
       "      <td>83000</td>\n",
       "      <td>38655276</td>\n",
       "      <td>0.024691</td>\n",
       "    </tr>\n",
       "    <tr>\n",
       "      <th>2021-01-05</th>\n",
       "      <td>81600</td>\n",
       "      <td>83900</td>\n",
       "      <td>81600</td>\n",
       "      <td>83900</td>\n",
       "      <td>35335669</td>\n",
       "      <td>0.010843</td>\n",
       "    </tr>\n",
       "    <tr>\n",
       "      <th>2021-01-06</th>\n",
       "      <td>83300</td>\n",
       "      <td>84500</td>\n",
       "      <td>82100</td>\n",
       "      <td>82200</td>\n",
       "      <td>42089013</td>\n",
       "      <td>-0.020262</td>\n",
       "    </tr>\n",
       "    <tr>\n",
       "      <th>2021-01-07</th>\n",
       "      <td>82800</td>\n",
       "      <td>84200</td>\n",
       "      <td>82700</td>\n",
       "      <td>82900</td>\n",
       "      <td>32644642</td>\n",
       "      <td>0.008516</td>\n",
       "    </tr>\n",
       "    <tr>\n",
       "      <th>2021-01-08</th>\n",
       "      <td>83300</td>\n",
       "      <td>90000</td>\n",
       "      <td>83000</td>\n",
       "      <td>88800</td>\n",
       "      <td>59013307</td>\n",
       "      <td>0.071170</td>\n",
       "    </tr>\n",
       "    <tr>\n",
       "      <th>...</th>\n",
       "      <td>...</td>\n",
       "      <td>...</td>\n",
       "      <td>...</td>\n",
       "      <td>...</td>\n",
       "      <td>...</td>\n",
       "      <td>...</td>\n",
       "    </tr>\n",
       "    <tr>\n",
       "      <th>2021-10-25</th>\n",
       "      <td>69900</td>\n",
       "      <td>70600</td>\n",
       "      <td>69500</td>\n",
       "      <td>70200</td>\n",
       "      <td>10029621</td>\n",
       "      <td>-0.002841</td>\n",
       "    </tr>\n",
       "    <tr>\n",
       "      <th>2021-10-26</th>\n",
       "      <td>70600</td>\n",
       "      <td>71500</td>\n",
       "      <td>70400</td>\n",
       "      <td>71100</td>\n",
       "      <td>10528252</td>\n",
       "      <td>0.012821</td>\n",
       "    </tr>\n",
       "    <tr>\n",
       "      <th>2021-10-27</th>\n",
       "      <td>71000</td>\n",
       "      <td>71000</td>\n",
       "      <td>70000</td>\n",
       "      <td>70100</td>\n",
       "      <td>10295316</td>\n",
       "      <td>-0.014065</td>\n",
       "    </tr>\n",
       "    <tr>\n",
       "      <th>2021-10-28</th>\n",
       "      <td>69500</td>\n",
       "      <td>72200</td>\n",
       "      <td>69500</td>\n",
       "      <td>70700</td>\n",
       "      <td>20644902</td>\n",
       "      <td>0.008559</td>\n",
       "    </tr>\n",
       "    <tr>\n",
       "      <th>2021-10-29</th>\n",
       "      <td>71200</td>\n",
       "      <td>71600</td>\n",
       "      <td>69700</td>\n",
       "      <td>69800</td>\n",
       "      <td>17016151</td>\n",
       "      <td>-0.012730</td>\n",
       "    </tr>\n",
       "  </tbody>\n",
       "</table>\n",
       "<p>204 rows × 6 columns</p>\n",
       "</div>"
      ],
      "text/plain": [
       "             Open   High    Low  Close    Volume    Change\n",
       "Date                                                      \n",
       "2021-01-04  81000  84400  80200  83000  38655276  0.024691\n",
       "2021-01-05  81600  83900  81600  83900  35335669  0.010843\n",
       "2021-01-06  83300  84500  82100  82200  42089013 -0.020262\n",
       "2021-01-07  82800  84200  82700  82900  32644642  0.008516\n",
       "2021-01-08  83300  90000  83000  88800  59013307  0.071170\n",
       "...           ...    ...    ...    ...       ...       ...\n",
       "2021-10-25  69900  70600  69500  70200  10029621 -0.002841\n",
       "2021-10-26  70600  71500  70400  71100  10528252  0.012821\n",
       "2021-10-27  71000  71000  70000  70100  10295316 -0.014065\n",
       "2021-10-28  69500  72200  69500  70700  20644902  0.008559\n",
       "2021-10-29  71200  71600  69700  69800  17016151 -0.012730\n",
       "\n",
       "[204 rows x 6 columns]"
      ]
     },
     "execution_count": 3,
     "metadata": {},
     "output_type": "execute_result"
    }
   ],
   "source": [
    "start_date = '20210104'\n",
    "end_date = '20211029'\n",
    "sample_code = '005930'\n",
    "stock = fdr.DataReader(sample_code, start = start_date, end = end_date)\n",
    "stock"
   ]
  },
  {
   "cell_type": "code",
   "execution_count": 17,
   "metadata": {},
   "outputs": [
    {
     "data": {
      "text/plain": [
       "Open      0\n",
       "High      0\n",
       "Low       0\n",
       "Close     0\n",
       "Volume    0\n",
       "Change    0\n",
       "dtype: int64"
      ]
     },
     "execution_count": 17,
     "metadata": {},
     "output_type": "execute_result"
    }
   ],
   "source": [
    "stock.isnull().sum()"
   ]
  },
  {
   "cell_type": "code",
   "execution_count": 19,
   "metadata": {},
   "outputs": [
    {
     "data": {
      "text/plain": [
       "Open        int64\n",
       "High        int64\n",
       "Low         int64\n",
       "Close       int64\n",
       "Volume      int64\n",
       "Change    float64\n",
       "dtype: object"
      ]
     },
     "execution_count": 19,
     "metadata": {},
     "output_type": "execute_result"
    }
   ],
   "source": [
    "stock.dtypes"
   ]
  },
  {
   "cell_type": "markdown",
   "metadata": {},
   "source": [
    "## submission 종목 코드 확인"
   ]
  },
  {
   "cell_type": "code",
   "execution_count": 4,
   "metadata": {},
   "outputs": [],
   "source": [
    "list_name = 'sample_submission.csv'\n",
    "submission = pd.read_csv(os.path.join(path,list_name))\n",
    "target_cols = list(submission.columns)[1:]"
   ]
  },
  {
   "cell_type": "markdown",
   "metadata": {},
   "source": [
    "## input data 준비"
   ]
  },
  {
   "cell_type": "code",
   "execution_count": 5,
   "metadata": {},
   "outputs": [],
   "source": [
    "stock_close = np.array(stock['Close'])\n",
    "stock_x = stock_close[:-2]\n",
    "stock_y = stock_close[1:-1]"
   ]
  },
  {
   "cell_type": "markdown",
   "metadata": {},
   "source": [
    "## 모델 준비(Linear Regression, RandomForestRegressor)"
   ]
  },
  {
   "cell_type": "code",
   "execution_count": 6,
   "metadata": {},
   "outputs": [],
   "source": [
    "from sklearn.linear_model import LinearRegression\n",
    "from sklearn.ensemble import RandomForestRegressor\n",
    "lin_reg = LinearRegression()\n",
    "rf_reg = RandomForestRegressor()"
   ]
  },
  {
   "cell_type": "code",
   "execution_count": 23,
   "metadata": {},
   "outputs": [],
   "source": [
    "# #kfold\n",
    "# from sklearn.model_selection import TimeSeriesSplit\n",
    "# ts_split = TimeSeriesSplit(n_splits=5)\n",
    "# cv_accuracy = []"
   ]
  },
  {
   "cell_type": "code",
   "execution_count": 53,
   "metadata": {},
   "outputs": [
    {
     "data": {
      "text/plain": [
       "array([70100], dtype=int64)"
      ]
     },
     "execution_count": 53,
     "metadata": {},
     "output_type": "execute_result"
    }
   ],
   "source": [
    "stock_x_tmp = stock_x.reshape(-1, 1)\n",
    "stock_y_tmp = stock_y.reshape(-1, 1)"
   ]
  },
  {
   "cell_type": "code",
   "execution_count": 54,
   "metadata": {},
   "outputs": [
    {
     "name": "stdout",
     "output_type": "stream",
     "text": [
      "pred : [[70247.08434995]], real : 70700\n"
     ]
    }
   ],
   "source": [
    "lin_reg.fit(stock_x_tmp, stock_y_tmp)\n",
    "x_test = stock_x[-1]\n",
    "pred = lin_reg.predict(x_test.reshape(-1,1))\n",
    "y_test = stock_y[-1]\n",
    "print(f'pred : {pred}, real : {y_test}')"
   ]
  },
  {
   "cell_type": "code",
   "execution_count": 57,
   "metadata": {},
   "outputs": [],
   "source": [
    "november = []\n",
    "stock_close = np.array(stock['Close'])\n",
    "for i in range(25):\n",
    "    stock_x = stock_close[:-2].reshape(-1,1)\n",
    "    stock_y = stock_close[1:-1].reshape(-1,1)\n",
    "\n",
    "    x_test = stock_x[-1]\n",
    "\n",
    "    lin_reg.fit(stock_x, stock_y)\n",
    "    pred = lin_reg.predict(x_test.reshape(-1,1))\n",
    "    november.append(pred)\n",
    "\n",
    "    stock_close = np.append(stock_close, pred)\n",
    "    stock_close = np.delete(stock_close, 0)\n",
    "    "
   ]
  },
  {
   "cell_type": "code",
   "execution_count": 58,
   "metadata": {},
   "outputs": [
    {
     "data": {
      "text/plain": [
       "[array([[70247.08434995]]),\n",
       " array([[70808.35752998]]),\n",
       " array([[69928.03372004]]),\n",
       " array([[70379.30162585]]),\n",
       " array([[70912.9047969]]),\n",
       " array([[70099.7623098]]),\n",
       " array([[70548.37509275]]),\n",
       " array([[71035.68606617]]),\n",
       " array([[70257.17471164]]),\n",
       " array([[70679.56929828]]),\n",
       " array([[71102.54672288]]),\n",
       " array([[70360.96376166]]),\n",
       " array([[70786.7035744]]),\n",
       " array([[71195.31381912]]),\n",
       " array([[70463.84504098]]),\n",
       " array([[70915.89201183]]),\n",
       " array([[71264.09201442]]),\n",
       " array([[70545.45739332]]),\n",
       " array([[70981.38288394]]),\n",
       " array([[71304.14146629]]),\n",
       " array([[70604.11227139]]),\n",
       " array([[71042.78579409]]),\n",
       " array([[71349.17444627]]),\n",
       " array([[70655.85636139]]),\n",
       " array([[71094.9795298]])]"
      ]
     },
     "execution_count": 58,
     "metadata": {},
     "output_type": "execute_result"
    }
   ],
   "source": [
    "november"
   ]
  },
  {
   "cell_type": "code",
   "execution_count": 26,
   "metadata": {},
   "outputs": [
    {
     "data": {
      "text/html": [
       "<div>\n",
       "<style scoped>\n",
       "    .dataframe tbody tr th:only-of-type {\n",
       "        vertical-align: middle;\n",
       "    }\n",
       "\n",
       "    .dataframe tbody tr th {\n",
       "        vertical-align: top;\n",
       "    }\n",
       "\n",
       "    .dataframe thead th {\n",
       "        text-align: right;\n",
       "    }\n",
       "</style>\n",
       "<table border=\"1\" class=\"dataframe\">\n",
       "  <thead>\n",
       "    <tr style=\"text-align: right;\">\n",
       "      <th></th>\n",
       "      <th>Open</th>\n",
       "      <th>High</th>\n",
       "      <th>Low</th>\n",
       "      <th>Close</th>\n",
       "      <th>Volume</th>\n",
       "      <th>Change</th>\n",
       "    </tr>\n",
       "    <tr>\n",
       "      <th>Date</th>\n",
       "      <th></th>\n",
       "      <th></th>\n",
       "      <th></th>\n",
       "      <th></th>\n",
       "      <th></th>\n",
       "      <th></th>\n",
       "    </tr>\n",
       "  </thead>\n",
       "  <tbody>\n",
       "    <tr>\n",
       "      <th>2021-09-17</th>\n",
       "      <td>16950</td>\n",
       "      <td>17350</td>\n",
       "      <td>16700</td>\n",
       "      <td>17300</td>\n",
       "      <td>412972</td>\n",
       "      <td>0.026706</td>\n",
       "    </tr>\n",
       "    <tr>\n",
       "      <th>2021-09-23</th>\n",
       "      <td>19450</td>\n",
       "      <td>22200</td>\n",
       "      <td>18650</td>\n",
       "      <td>20450</td>\n",
       "      <td>10153308</td>\n",
       "      <td>0.182081</td>\n",
       "    </tr>\n",
       "    <tr>\n",
       "      <th>2021-09-24</th>\n",
       "      <td>20850</td>\n",
       "      <td>21850</td>\n",
       "      <td>19650</td>\n",
       "      <td>20050</td>\n",
       "      <td>3656760</td>\n",
       "      <td>-0.019560</td>\n",
       "    </tr>\n",
       "  </tbody>\n",
       "</table>\n",
       "</div>"
      ],
      "text/plain": [
       "             Open   High    Low  Close    Volume    Change\n",
       "Date                                                      \n",
       "2021-09-17  16950  17350  16700  17300    412972  0.026706\n",
       "2021-09-23  19450  22200  18650  20450  10153308  0.182081\n",
       "2021-09-24  20850  21850  19650  20050   3656760 -0.019560"
      ]
     },
     "execution_count": 26,
     "metadata": {},
     "output_type": "execute_result"
    }
   ],
   "source": [
    "stock_test = fdr.DataReader(sample_code, start = '20210917', end = '20210924')\n",
    "stock_test # 장이 열리지 않은 날은 아얘 데이터가 없다 -> isnull로 못 찾음"
   ]
  },
  {
   "cell_type": "code",
   "execution_count": 8,
   "metadata": {},
   "outputs": [],
   "source": [
    "# NMAE\n",
    "from sklearn.metrics import mean_absolute_error\n",
    "\n",
    "def nmae(code, y_test, y_pred):\n",
    "    mae = mean_absolute_error(y_test, y_pred)\n",
    "    nmae_denominator = np.sum(abs(y_test))/y_test.shape[0]\n",
    "    accuracy = mae / nmae_denominator * 100\n",
    "    # print(f'{code} score : {accuracy}')\n",
    "    return accuracy"
   ]
  },
  {
   "cell_type": "code",
   "execution_count": 10,
   "metadata": {},
   "outputs": [],
   "source": [
    "# xgboost\n",
    "import xgboost\n",
    "xgb_model = xgboost.XGBRegressor(n_estimators=100, learning_rate=0.08, max_depth = 7, gamma=0, subsample=0.75, colsample_bytree=0.75, reg_lambda=0.8, reg_alpha=0.8)"
   ]
  },
  {
   "cell_type": "code",
   "execution_count": null,
   "metadata": {},
   "outputs": [],
   "source": [
    "def normalize(stock_close):\n",
    "    # StandardScaler()...fit_transform...\n",
    "    return stock_close\n",
    "\n",
    "def denormalize(stock_close):\n",
    "    return stock_close"
   ]
  },
  {
   "cell_type": "markdown",
   "metadata": {},
   "source": [
    "# Main"
   ]
  },
  {
   "cell_type": "code",
   "execution_count": 11,
   "metadata": {},
   "outputs": [
    {
     "name": "stderr",
     "output_type": "stream",
     "text": [
      "[CODE : 950130]: 100%|██████████| 370/370 [02:29<00:00,  2.47it/s]\n"
     ]
    }
   ],
   "source": [
    "# xgb\n",
    "_tqdm = tqdm(target_cols)\n",
    "for code in _tqdm:\n",
    "    _tqdm.set_description(f\"[CODE : {code}]\")\n",
    "    sample_code = code\n",
    "    stock = fdr.DataReader(code, start = start_date, end = end_date)\n",
    "\n",
    "    november = []\n",
    "    stock_close = np.array(stock['Close'])\n",
    "    stock_close = normalize(stock_close)\n",
    "    for i in range(5):\n",
    "        stock_x = stock_close[-61:-2].reshape(-1,1)\n",
    "        stock_y = stock_close[-60:-1].reshape(-1,1)\n",
    "\n",
    "        x_test = stock_x[-1]\n",
    "\n",
    "        xgb_model.fit(stock_x, stock_y)\n",
    "        pred = xgb_model.predict(x_test.reshape(-1,1))\n",
    "        november.append(pred)\n",
    "\n",
    "        stock_close = np.append(stock_close, pred)\n",
    "        stock_close = np.delete(stock_close, 0)\n",
    "    # november_target = november[:5] + november[-5:]\n",
    "    november_target = november + november\n",
    "    november_last = list(map(lambda x:x[0], november_target))\n",
    "    submission.loc[:, code] = november_last\n",
    "\n",
    "    "
   ]
  },
  {
   "cell_type": "code",
   "execution_count": null,
   "metadata": {},
   "outputs": [
    {
     "name": "stderr",
     "output_type": "stream",
     "text": [
      "[CODE : 950130]: 100%|██████████| 370/370 [02:29<00:00,  2.47it/s]\n"
     ]
    }
   ],
   "source": [
    "# randomforest? sgd? elasticnet? lstm?\n",
    "_tqdm = tqdm(target_cols)\n",
    "for code in _tqdm:\n",
    "    _tqdm.set_description(f\"[CODE : {code}]\")\n",
    "    sample_code = code\n",
    "    stock = fdr.DataReader(code, start = start_date, end = end_date)\n",
    "\n",
    "    november = []\n",
    "    stock_close = np.array(stock['Close'])\n",
    "    for i in range(5):\n",
    "        stock_x = stock_close[-61:-2].reshape(-1,1)\n",
    "        stock_y = stock_close[-60:-1].reshape(-1,1)\n",
    "\n",
    "        x_test = stock_x[-1]\n",
    "\n",
    "        rf_reg.fit(stock_x, stock_y)\n",
    "        pred = rf_reg.predict(x_test.reshape(-1,1))\n",
    "        november.append(pred)\n",
    "\n",
    "        stock_close = np.append(stock_close, pred)\n",
    "        stock_close = np.delete(stock_close, 0)\n",
    "    # november_target = november[:5] + november[-5:]\n",
    "    november_target = november + november\n",
    "    november_last = list(map(lambda x:x[0], november_target))\n",
    "    submission.loc[:, code] = november_last\n",
    "\n",
    "    "
   ]
  },
  {
   "cell_type": "code",
   "execution_count": 12,
   "metadata": {},
   "outputs": [
    {
     "name": "stderr",
     "output_type": "stream",
     "text": [
      "[CODE : 950130]: 100%|██████████| 370/370 [00:00<00:00, 677.02it/s]"
     ]
    },
    {
     "name": "stdout",
     "output_type": "stream",
     "text": [
      "total_score = 3.352146924913583\n"
     ]
    },
    {
     "name": "stderr",
     "output_type": "stream",
     "text": [
      "\n"
     ]
    }
   ],
   "source": [
    "# performance_check\n",
    "answer = pd.read_csv('./data/answer_submission.csv')\n",
    "_tqdm = tqdm(target_cols)\n",
    "nmae_score = 0\n",
    "total_score = 0\n",
    "for code in _tqdm:\n",
    "    _tqdm.set_description(f\"[CODE : {code}]\")\n",
    "    y_pred = submission[code][:5]\n",
    "    y_answer = answer[code][:5]\n",
    "    nmae_score += nmae(code, y_answer, y_pred)\n",
    "\n",
    "total_score = nmae_score / 370\n",
    "print(f'total_score = {total_score}')"
   ]
  },
  {
   "cell_type": "code",
   "execution_count": 13,
   "metadata": {},
   "outputs": [],
   "source": [
    "# code = '000060'\n",
    "# sample_value = [i for i in range(10)]\n",
    "# submission.loc[:,code] = sample_value\n",
    "submission.to_csv('./submission/xgbregressor_v2.csv', index=False)"
   ]
  },
  {
   "cell_type": "code",
   "execution_count": 25,
   "metadata": {},
   "outputs": [],
   "source": [
    "def compare(answer_path: os.path, my_answer_path: os.path):\n",
    "    answer = pd.read_csv(answer_path)\n",
    "    my_answer = pd.read_csv(my_answer_path)\n",
    "    \n",
    "    columns = answer.columns\n",
    "    format = pd.DataFrame(np.zeros((1, 371)), index=[\"NMAE\"], columns=columns)\n",
    "    format = format.rename(columns={'Day': 'Total'})\n",
    "\n",
    "    for code in answer.columns[1:]:\n",
    "        true = answer[code].to_numpy(dtype=np.float32)\n",
    "        pred = my_answer[code].to_numpy(dtype=np.float32)\n",
    "        normalized_error = np.abs(true - pred) / (true)\n",
    "        normalized_mean_error = np.mean(normalized_error)\n",
    "\n",
    "        format[code][0] = normalized_mean_error * 100\n",
    "\n",
    "    total_nmae = np.mean(format, axis=1)\n",
    "    format['Total'] = total_nmae\n",
    "    result = format.T.copy(deep=True)\n",
    "    result.reset_index(inplace=True)\n",
    "    \n",
    "    result[1:] = result[1:].sort_values([\"NMAE\"], ascending=False, axis=0)\n",
    "    result.to_csv(\"./results.csv\", index=False)\n",
    "\n",
    "compare('./data/answer_submission.csv', './submission/xgbregressor_v1.csv')"
   ]
  },
  {
   "cell_type": "code",
   "execution_count": 25,
   "metadata": {},
   "outputs": [
    {
     "name": "stdout",
     "output_type": "stream",
     "text": [
      "1 교차검증 정확도 : 1.251811949496452, 학습 데이터 크기 : 34, 검증 데이터 크기 : 34\n",
      "2 교차검증 정확도 : 1.8019715580925881, 학습 데이터 크기 : 68, 검증 데이터 크기 : 34\n",
      "3 교차검증 정확도 : 1.1782601044670427, 학습 데이터 크기 : 102, 검증 데이터 크기 : 34\n",
      "4 교차검증 정확도 : 1.4519986673279472, 학습 데이터 크기 : 136, 검증 데이터 크기 : 34\n",
      "5 교차검증 정확도 : 0.9687740125626234, 학습 데이터 크기 : 170, 검증 데이터 크기 : 34\n",
      "\n",
      "\n",
      "평균 검증 정확도 : 0.880763931731957\n"
     ]
    }
   ],
   "source": [
    "# start_date = '20210104'\n",
    "# end_date = '20211029'\n",
    "# # for code in target_cols:\n",
    "# # sample_code = code\n",
    "# # stock = fdr.DataReader(sample_code, start = start_date, end = end_date)\n",
    "# # stock_x = stock.drop('Close', axis=1).to_numpy()\n",
    "# # stock_y = stock['Close'].copy().to_numpy()\n",
    "\n",
    "# n_iter = 0\n",
    "# for train_index, test_index in ts_split.split(stock_x):\n",
    "#     x_train, x_test = stock_x[train_index], stock_x[test_index]\n",
    "#     y_train, y_test = stock_y[train_index], stock_y[test_index]\n",
    "#     lin_reg.fit(x_train, y_train)\n",
    "#     valid_pred = lin_reg.predict(x_test)\n",
    "#     n_iter += 1\n",
    "    # mae = mean_absolute_error(y_test, valid_pred)\n",
    "    # nmae_denominator = np.sum(abs(y_test))/y_test.shape[0]\n",
    "    # accuracy = mae / nmae_denominator * 100\n",
    "#     print(f'{n_iter} 교차검증 정확도 : {accuracy}, 학습 데이터 크기 : {x_train.shape[0]}, 검증 데이터 크기 : {x_test.shape[0]}')\n",
    "#     cv_accuracy.append(accuracy)\n",
    "# print('\\n')\n",
    "# print(f'평균 검증 정확도 : {np.mean(cv_accuracy)}')\n"
   ]
  },
  {
   "cell_type": "code",
   "execution_count": null,
   "metadata": {},
   "outputs": [],
   "source": []
  }
 ],
 "metadata": {
  "interpreter": {
   "hash": "4a4e117c5edc614e6b4064e6c68e11a17ae45647e26e2081e47cf68928b1b106"
  },
  "kernelspec": {
   "display_name": "Python 3.9.7 64-bit",
   "name": "python3"
  },
  "language_info": {
   "codemirror_mode": {
    "name": "ipython",
    "version": 3
   },
   "file_extension": ".py",
   "mimetype": "text/x-python",
   "name": "python",
   "nbconvert_exporter": "python",
   "pygments_lexer": "ipython3",
   "version": "3.9.7"
  },
  "orig_nbformat": 4
 },
 "nbformat": 4,
 "nbformat_minor": 2
}
